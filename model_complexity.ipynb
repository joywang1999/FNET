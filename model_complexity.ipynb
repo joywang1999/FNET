{
 "cells": [
  {
   "cell_type": "code",
   "execution_count": 1,
   "id": "7b7cd167",
   "metadata": {},
   "outputs": [],
   "source": [
    "import tensorflow as tf\n",
    "import numpy as np\n",
    "import model_tf2.net_factory as netf\n",
    "import os"
   ]
  },
  {
   "cell_type": "code",
   "execution_count": 2,
   "id": "4810d159",
   "metadata": {},
   "outputs": [],
   "source": [
    "tf.test.gpu_device_name()\n",
    "tf.config.run_functions_eagerly(True)\n",
    "\n",
    "%load_ext autoreload\n",
    "%autoreload 2"
   ]
  },
  {
   "cell_type": "code",
   "execution_count": null,
   "id": "cf104fa9",
   "metadata": {
    "scrolled": true
   },
   "outputs": [],
   "source": []
  },
  {
   "cell_type": "code",
   "execution_count": 5,
   "id": "80765899",
   "metadata": {
    "scrolled": false
   },
   "outputs": [
    {
     "name": "stdout",
     "output_type": "stream",
     "text": [
      "Model: \"fish_net_2\"\n",
      "_________________________________________________________________\n",
      "Layer (type)                 Output Shape              Param #   \n",
      "=================================================================\n",
      "sequential_50 (Sequential)   (1, 16, 32, 32)           496       \n",
      "_________________________________________________________________\n",
      "sequential_51 (Sequential)   (1, 16, 32, 32)           2368      \n",
      "_________________________________________________________________\n",
      "sequential_52 (Sequential)   (1, 32, 32, 32)           4736      \n",
      "_________________________________________________________________\n",
      "max_pooling2d_4 (MaxPooling2 multiple                  0         \n",
      "_________________________________________________________________\n",
      "fish_2 (Fish)                multiple                  1026840   \n",
      "_________________________________________________________________\n",
      "softmax_2 (Softmax)          multiple                  0         \n",
      "=================================================================\n",
      "Total params: 1,034,440\n",
      "Trainable params: 1,021,224\n",
      "Non-trainable params: 13,216\n",
      "_________________________________________________________________\n"
     ]
    }
   ],
   "source": [
    "model1 = netf.myfishnet()\n",
    "model1.build((1, 3, 64, 64))\n",
    "model1.summary()"
   ]
  },
  {
   "cell_type": "code",
   "execution_count": 6,
   "id": "6c79d309",
   "metadata": {
    "scrolled": false
   },
   "outputs": [
    {
     "name": "stdout",
     "output_type": "stream",
     "text": [
      "Model: \"fish_net_3\"\n",
      "_________________________________________________________________\n",
      "Layer (type)                 Output Shape              Param #   \n",
      "=================================================================\n",
      "sequential_74 (Sequential)   (1, 16, 32, 32)           496       \n",
      "_________________________________________________________________\n",
      "sequential_75 (Sequential)   (1, 16, 32, 32)           2368      \n",
      "_________________________________________________________________\n",
      "sequential_76 (Sequential)   (1, 32, 32, 32)           4736      \n",
      "_________________________________________________________________\n",
      "max_pooling2d_6 (MaxPooling2 multiple                  0         \n",
      "_________________________________________________________________\n",
      "fish_3 (Fish)                multiple                  1790360   \n",
      "_________________________________________________________________\n",
      "softmax_3 (Softmax)          multiple                  0         \n",
      "=================================================================\n",
      "Total params: 1,797,960\n",
      "Trainable params: 1,775,624\n",
      "Non-trainable params: 22,336\n",
      "_________________________________________________________________\n"
     ]
    }
   ],
   "source": [
    "model2 = netf.myfishnet2()\n",
    "model2.build((1, 3, 64, 64))\n",
    "model2.summary()"
   ]
  },
  {
   "cell_type": "code",
   "execution_count": 8,
   "id": "cc33bfa5",
   "metadata": {},
   "outputs": [
    {
     "name": "stdout",
     "output_type": "stream",
     "text": [
      "Model: \"fish_net_5\"\n",
      "_________________________________________________________________\n",
      "Layer (type)                 Output Shape              Param #   \n",
      "=================================================================\n",
      "sequential_121 (Sequential)  (1, 16, 32, 32)           496       \n",
      "_________________________________________________________________\n",
      "sequential_122 (Sequential)  (1, 16, 32, 32)           2368      \n",
      "_________________________________________________________________\n",
      "sequential_123 (Sequential)  (1, 32, 32, 32)           4736      \n",
      "_________________________________________________________________\n",
      "max_pooling2d_10 (MaxPooling multiple                  0         \n",
      "_________________________________________________________________\n",
      "fish_5 (Fish)                multiple                  659984    \n",
      "_________________________________________________________________\n",
      "softmax_5 (Softmax)          multiple                  0         \n",
      "=================================================================\n",
      "Total params: 667,584\n",
      "Trainable params: 654,368\n",
      "Non-trainable params: 13,216\n",
      "_________________________________________________________________\n"
     ]
    }
   ],
   "source": [
    "model3 = netf.myfishnet3()\n",
    "model3.build((1, 3, 64, 64))\n",
    "model3.summary()"
   ]
  },
  {
   "cell_type": "code",
   "execution_count": null,
   "id": "b6e4469f",
   "metadata": {},
   "outputs": [],
   "source": []
  }
 ],
 "metadata": {
  "kernelspec": {
   "display_name": "Python 3",
   "language": "python",
   "name": "python3"
  },
  "language_info": {
   "codemirror_mode": {
    "name": "ipython",
    "version": 3
   },
   "file_extension": ".py",
   "mimetype": "text/x-python",
   "name": "python",
   "nbconvert_exporter": "python",
   "pygments_lexer": "ipython3",
   "version": "3.6.9"
  }
 },
 "nbformat": 4,
 "nbformat_minor": 5
}
